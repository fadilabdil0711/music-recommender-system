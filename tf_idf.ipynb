{
 "cells": [
  {
   "cell_type": "code",
   "execution_count": 3,
   "metadata": {
    "id": "WJSJtNyJf2TU"
   },
   "outputs": [],
   "source": [
    "import pandas as pd\n",
    "df = pd.read_csv('data_fix.csv')\n"
   ]
  },
  {
   "cell_type": "code",
   "execution_count": 4,
   "metadata": {
    "colab": {
     "base_uri": "https://localhost:8080/",
     "height": 206
    },
    "id": "YpnGo6SQhH8u",
    "outputId": "9995aa23-3616-4613-be31-6265903c9030"
   },
   "outputs": [
    {
     "data": {
      "text/html": [
       "<div>\n",
       "<style scoped>\n",
       "    .dataframe tbody tr th:only-of-type {\n",
       "        vertical-align: middle;\n",
       "    }\n",
       "\n",
       "    .dataframe tbody tr th {\n",
       "        vertical-align: top;\n",
       "    }\n",
       "\n",
       "    .dataframe thead th {\n",
       "        text-align: right;\n",
       "    }\n",
       "</style>\n",
       "<table border=\"1\" class=\"dataframe\">\n",
       "  <thead>\n",
       "    <tr style=\"text-align: right;\">\n",
       "      <th></th>\n",
       "      <th>title</th>\n",
       "      <th>artist</th>\n",
       "      <th>lyrics</th>\n",
       "      <th>track_id</th>\n",
       "    </tr>\n",
       "  </thead>\n",
       "  <tbody>\n",
       "    <tr>\n",
       "      <th>0</th>\n",
       "      <td>A N G</td>\n",
       "      <td>Naff</td>\n",
       "      <td>NAFF - A.N.G\\nSeluruh hati tlah kudatangi\\nHan...</td>\n",
       "      <td>7GUIH3PAQ12qAIBl9jGBGn</td>\n",
       "    </tr>\n",
       "    <tr>\n",
       "      <th>1</th>\n",
       "      <td>A Ya Ya</td>\n",
       "      <td>AB Three</td>\n",
       "      <td>Ku tak ingin kau katakan cinta\\nKu tak ingin k...</td>\n",
       "      <td>1gt1KOgV8kj7qZNwHNHXEX</td>\n",
       "    </tr>\n",
       "    <tr>\n",
       "      <th>2</th>\n",
       "      <td>A Ye O (Tamasya)</td>\n",
       "      <td>Soul ID</td>\n",
       "      <td>Lalalalaa heeeey… Lalalalaa heeeey\\nHari ini a...</td>\n",
       "      <td>6yJn2M5LSJ2EieEyW8sTZm</td>\n",
       "    </tr>\n",
       "    <tr>\n",
       "      <th>3</th>\n",
       "      <td>A-A-A-A-A</td>\n",
       "      <td>Naff</td>\n",
       "      <td>kamu datang di saat tepat\\nbebaskan jiwa yang ...</td>\n",
       "      <td>0zJIPpVcHKWqmf2FaKXbQQ</td>\n",
       "    </tr>\n",
       "    <tr>\n",
       "      <th>4</th>\n",
       "      <td>A...A...A...</td>\n",
       "      <td>Rif</td>\n",
       "      <td>Kau... tak tahu, yang terjadi,\\nterkunci, jauh...</td>\n",
       "      <td>1hS3RXEQbXtWgYpot2Ay07</td>\n",
       "    </tr>\n",
       "    <tr>\n",
       "      <th>...</th>\n",
       "      <td>...</td>\n",
       "      <td>...</td>\n",
       "      <td>...</td>\n",
       "      <td>...</td>\n",
       "    </tr>\n",
       "    <tr>\n",
       "      <th>8939</th>\n",
       "      <td>8 Tahun</td>\n",
       "      <td>Adhitia Sofyan</td>\n",
       "      <td>Ketika angin bicara\\nTunjukan arah titik berte...</td>\n",
       "      <td>3yEmHh3T377wlTwKIAI2Cg</td>\n",
       "    </tr>\n",
       "    <tr>\n",
       "      <th>8940</th>\n",
       "      <td>80-An</td>\n",
       "      <td>Netral</td>\n",
       "      <td>Lempar lontar gaungkan ruangan\\nKebebasan, puc...</td>\n",
       "      <td>6CSxyQGeNknSOI3w1PONEV</td>\n",
       "    </tr>\n",
       "    <tr>\n",
       "      <th>8941</th>\n",
       "      <td>9 Perempuan</td>\n",
       "      <td>Pizza</td>\n",
       "      <td>Kau satu dari 9 perempuan\\nYang pernah kumilik...</td>\n",
       "      <td>78EUKoRZNgFT7rfMWQjwwy</td>\n",
       "    </tr>\n",
       "    <tr>\n",
       "      <th>8942</th>\n",
       "      <td>9 Tahun</td>\n",
       "      <td>Crossbottom</td>\n",
       "      <td>Tetap setia walau kau jauh disana\\nTetap menan...</td>\n",
       "      <td>4O1avAxN2rxIcNNVyK1vHH</td>\n",
       "    </tr>\n",
       "    <tr>\n",
       "      <th>8943</th>\n",
       "      <td>98</td>\n",
       "      <td>Netral</td>\n",
       "      <td>1998 tahun gila, tahunnya macan\\nPamer taring ...</td>\n",
       "      <td>6VwcNkYE4gT4SlKzriC5yv</td>\n",
       "    </tr>\n",
       "  </tbody>\n",
       "</table>\n",
       "<p>8944 rows × 4 columns</p>\n",
       "</div>"
      ],
      "text/plain": [
       "                 title          artist  \\\n",
       "0                A N G            Naff   \n",
       "1              A Ya Ya        AB Three   \n",
       "2     A Ye O (Tamasya)         Soul ID   \n",
       "3            A-A-A-A-A            Naff   \n",
       "4         A...A...A...             Rif   \n",
       "...                ...             ...   \n",
       "8939           8 Tahun  Adhitia Sofyan   \n",
       "8940             80-An          Netral   \n",
       "8941       9 Perempuan           Pizza   \n",
       "8942           9 Tahun     Crossbottom   \n",
       "8943                98          Netral   \n",
       "\n",
       "                                                 lyrics  \\\n",
       "0     NAFF - A.N.G\\nSeluruh hati tlah kudatangi\\nHan...   \n",
       "1     Ku tak ingin kau katakan cinta\\nKu tak ingin k...   \n",
       "2     Lalalalaa heeeey… Lalalalaa heeeey\\nHari ini a...   \n",
       "3     kamu datang di saat tepat\\nbebaskan jiwa yang ...   \n",
       "4     Kau... tak tahu, yang terjadi,\\nterkunci, jauh...   \n",
       "...                                                 ...   \n",
       "8939  Ketika angin bicara\\nTunjukan arah titik berte...   \n",
       "8940  Lempar lontar gaungkan ruangan\\nKebebasan, puc...   \n",
       "8941  Kau satu dari 9 perempuan\\nYang pernah kumilik...   \n",
       "8942  Tetap setia walau kau jauh disana\\nTetap menan...   \n",
       "8943  1998 tahun gila, tahunnya macan\\nPamer taring ...   \n",
       "\n",
       "                    track_id  \n",
       "0     7GUIH3PAQ12qAIBl9jGBGn  \n",
       "1     1gt1KOgV8kj7qZNwHNHXEX  \n",
       "2     6yJn2M5LSJ2EieEyW8sTZm  \n",
       "3     0zJIPpVcHKWqmf2FaKXbQQ  \n",
       "4     1hS3RXEQbXtWgYpot2Ay07  \n",
       "...                      ...  \n",
       "8939  3yEmHh3T377wlTwKIAI2Cg  \n",
       "8940  6CSxyQGeNknSOI3w1PONEV  \n",
       "8941  78EUKoRZNgFT7rfMWQjwwy  \n",
       "8942  4O1avAxN2rxIcNNVyK1vHH  \n",
       "8943  6VwcNkYE4gT4SlKzriC5yv  \n",
       "\n",
       "[8944 rows x 4 columns]"
      ]
     },
     "execution_count": 4,
     "metadata": {},
     "output_type": "execute_result"
    }
   ],
   "source": [
    "df"
   ]
  },
  {
   "cell_type": "code",
   "execution_count": 5,
   "metadata": {
    "colab": {
     "base_uri": "https://localhost:8080/"
    },
    "id": "J_3D8bsxhXr3",
    "outputId": "d114fe81-1d81-4b83-960b-3a1dbc852100"
   },
   "outputs": [
    {
     "data": {
      "text/plain": [
       "(8944, 4)"
      ]
     },
     "execution_count": 5,
     "metadata": {},
     "output_type": "execute_result"
    }
   ],
   "source": [
    "df.shape"
   ]
  },
  {
   "cell_type": "code",
   "execution_count": 6,
   "metadata": {
    "colab": {
     "base_uri": "https://localhost:8080/"
    },
    "id": "ZnL3HsX7hc7X",
    "outputId": "02f60df0-4171-4f50-c81a-5b433a1ae71e"
   },
   "outputs": [
    {
     "data": {
      "text/plain": [
       "title       0\n",
       "artist      0\n",
       "lyrics      0\n",
       "track_id    0\n",
       "dtype: int64"
      ]
     },
     "execution_count": 6,
     "metadata": {},
     "output_type": "execute_result"
    }
   ],
   "source": [
    "#pengecakan data yang kosong\n",
    "df.isnull().sum()"
   ]
  },
  {
   "cell_type": "code",
   "execution_count": 7,
   "metadata": {
    "colab": {
     "base_uri": "https://localhost:8080/",
     "height": 157
    },
    "id": "BUok_JzShj0t",
    "outputId": "dae8bd70-e5b3-4859-e71a-d6ca465a53d2",
    "scrolled": true
   },
   "outputs": [
    {
     "data": {
      "text/plain": [
       "'Sudah tujuh samudera ku arungi bersama dengan dirimu\\nMerangkai hidup dengan suka duka\\nSangat tak bisa ku pahami dan mengerti yang terjadi kini\\nKau menjauh dan pergi tinggalkanku\\nHadirmu akan menjadi cerita terindah\\nSelama hidup dan matiku\\nWalaupun harus aku meninggalkan dirimu\\nTapi kau masih tersimpan di hatiku\\nSangat tak bisa ku pahami dan mengerti yang terjadi kini\\nKau menjauh dan pergi tinggalkanku\\nNamun tak bisa ku ingkari, ku sangat mengharapkan dirimu\\nWalau sulit tuk ku pahami cintamu sayangmu kepadaku\\n(Hadirmu akan menjadi cerita terindah\\nSepanjang hidup dan matiku\\nWalaupun harus aku meninggalkan dirimu\\nTapi kau masih tersimpan di hatiku)\\nHadirmu akan menjadi cerita terindah\\nSelama hidup dan matiku\\nWalaupun harus aku meninggalkan dirimu\\nTapi kau masih tersimpan di hatiku\\nSudah tujuh samudera ku arungi bersama dengan dirimu'"
      ]
     },
     "execution_count": 7,
     "metadata": {},
     "output_type": "execute_result"
    }
   ],
   "source": [
    "df['lyrics'][8937]"
   ]
  },
  {
   "cell_type": "code",
   "execution_count": 8,
   "metadata": {
    "id": "Z37igC4th50b"
   },
   "outputs": [],
   "source": [
    "#mengubah teks pada kolom lyrics menjadi huruf kecil dan menghilangkan karakter yang tidak perlu\n",
    "df['lyrics'] = df['lyrics'].str.lower().replace(r'[^\\w\\s]', '', regex=True).replace(r'\\n', ' ', regex=True)"
   ]
  },
  {
   "cell_type": "code",
   "execution_count": 9,
   "metadata": {
    "colab": {
     "base_uri": "https://localhost:8080/",
     "height": 122
    },
    "id": "rQ9E-ZTMiBd8",
    "outputId": "2a98c4e9-0781-43a5-a3c5-4204edf7cb4a"
   },
   "outputs": [
    {
     "data": {
      "text/plain": [
       "'sudah tujuh samudera ku arungi bersama dengan dirimu merangkai hidup dengan suka duka sangat tak bisa ku pahami dan mengerti yang terjadi kini kau menjauh dan pergi tinggalkanku hadirmu akan menjadi cerita terindah selama hidup dan matiku walaupun harus aku meninggalkan dirimu tapi kau masih tersimpan di hatiku sangat tak bisa ku pahami dan mengerti yang terjadi kini kau menjauh dan pergi tinggalkanku namun tak bisa ku ingkari ku sangat mengharapkan dirimu walau sulit tuk ku pahami cintamu sayangmu kepadaku hadirmu akan menjadi cerita terindah sepanjang hidup dan matiku walaupun harus aku meninggalkan dirimu tapi kau masih tersimpan di hatiku hadirmu akan menjadi cerita terindah selama hidup dan matiku walaupun harus aku meninggalkan dirimu tapi kau masih tersimpan di hatiku sudah tujuh samudera ku arungi bersama dengan dirimu'"
      ]
     },
     "execution_count": 9,
     "metadata": {},
     "output_type": "execute_result"
    }
   ],
   "source": [
    "df['lyrics'][8937]"
   ]
  },
  {
   "cell_type": "code",
   "execution_count": 10,
   "metadata": {
    "colab": {
     "base_uri": "https://localhost:8080/"
    },
    "id": "UTSe6ektic3x",
    "outputId": "596a43bc-5715-4841-de01-aae042d29b71"
   },
   "outputs": [
    {
     "name": "stdout",
     "output_type": "stream",
     "text": [
      "Requirement already satisfied: Sastrawi in c:\\users\\lenovo\\anaconda3\\lib\\site-packages (1.0.1)\n"
     ]
    }
   ],
   "source": [
    "#install library untuk proses stemming bahasa indonesia\n",
    "!pip install Sastrawi\n"
   ]
  },
  {
   "cell_type": "code",
   "execution_count": 11,
   "metadata": {
    "colab": {
     "base_uri": "https://localhost:8080/"
    },
    "id": "ZMTxDaCTiJvw",
    "outputId": "23c1af00-6c4a-4d93-a50f-50c54610e971"
   },
   "outputs": [
    {
     "name": "stderr",
     "output_type": "stream",
     "text": [
      "[nltk_data] Downloading package punkt to\n",
      "[nltk_data]     C:\\Users\\Lenovo\\AppData\\Roaming\\nltk_data...\n",
      "[nltk_data]   Package punkt is already up-to-date!\n"
     ]
    }
   ],
   "source": [
    "#mengimport library nltk untuk melakukan stemming(mengubah kata kedalam bentuk dasar) dan tokenisasi\n",
    "import nltk\n",
    "from Sastrawi.Stemmer.StemmerFactory import StemmerFactory\n",
    "\n",
    "nltk.download('punkt')\n",
    "factory = StemmerFactory()\n",
    "stemmer = factory.create_stemmer()\n",
    "\n",
    "#membuat fungsi untuk melakukan proses stemming dan tokenisasi pada kolom lyrics\n",
    "def tokenization(txt):\n",
    "    tokens = nltk.word_tokenize(txt)\n",
    "    stemming = [stemmer.stem(w) for w in tokens]\n",
    "    return \" \".join(stemming)"
   ]
  },
  {
   "cell_type": "code",
   "execution_count": 12,
   "metadata": {
    "colab": {
     "base_uri": "https://localhost:8080/",
     "height": 35
    },
    "id": "F3aPNpc5kG6x",
    "outputId": "1563fcb1-c4b7-456c-8502-7426abf58f00"
   },
   "outputs": [
    {
     "data": {
      "text/plain": [
       "'saya sedang makan makan'"
      ]
     },
     "execution_count": 12,
     "metadata": {},
     "output_type": "execute_result"
    }
   ],
   "source": [
    "tokenization('Saya sedang memakan makanan')"
   ]
  },
  {
   "cell_type": "code",
   "execution_count": 13,
   "metadata": {
    "id": "ykdfR4nkkP7n"
   },
   "outputs": [],
   "source": [
    "#menggunakan fungsi tokenization kedalam dataset\n",
    "df['lyrics'] = df['lyrics'].apply(lambda x: tokenization(x))"
   ]
  },
  {
   "cell_type": "code",
   "execution_count": 14,
   "metadata": {},
   "outputs": [
    {
     "data": {
      "text/plain": [
       "'sudah tujuh samudera ku arung sama dengan diri rangkai hidup dengan suka duka sangat tak bisa ku paham dan erti yang jadi kini kau jauh dan pergi tinggal hadir akan jadi cerita indah lama hidup dan mati walaupun harus aku tinggal diri tapi kau masih simpan di hati sangat tak bisa ku paham dan erti yang jadi kini kau jauh dan pergi tinggal namun tak bisa ku ingkar ku sangat harap diri walau sulit tuk ku paham cinta sayang kepada hadir akan jadi cerita indah panjang hidup dan mati walaupun harus aku tinggal diri tapi kau masih simpan di hati hadir akan jadi cerita indah lama hidup dan mati walaupun harus aku tinggal diri tapi kau masih simpan di hati sudah tujuh samudera ku arung sama dengan diri'"
      ]
     },
     "execution_count": 14,
     "metadata": {},
     "output_type": "execute_result"
    }
   ],
   "source": [
    "df['lyrics'][8937]"
   ]
  },
  {
   "cell_type": "code",
   "execution_count": 15,
   "metadata": {
    "id": "QXguIOLzwc5V"
   },
   "outputs": [],
   "source": [
    "#mengimpor library untuk menghapus stopword dalam bahas indonesia\n",
    "from Sastrawi.StopWordRemover.StopWordRemoverFactory import StopWordRemoverFactory\n",
    "factory = StopWordRemoverFactory()\n",
    "stopword_remover = factory.create_stop_word_remover()\n",
    "\n",
    "#implementasi kedalam dataset\n",
    "df['lyrics'] = df['lyrics'].apply(lambda x: stopword_remover.remove(x))"
   ]
  },
  {
   "cell_type": "code",
   "execution_count": 16,
   "metadata": {
    "colab": {
     "base_uri": "https://localhost:8080/",
     "height": 363
    },
    "id": "XlqsxJqYzUld",
    "outputId": "720d0a19-fb1f-488e-a09d-a9a0ce5fe090"
   },
   "outputs": [
    {
     "data": {
      "text/plain": [
       "'tujuh samudera ku arung sama diri rangkai hidup suka duka sangat tak ku paham erti jadi kini kau jauh pergi tinggal hadir jadi cerita indah lama hidup mati walaupun aku tinggal diri kau simpan hati sangat tak ku paham erti jadi kini kau jauh pergi tinggal tak ku ingkar ku sangat harap diri sulit tuk ku paham cinta sayang hadir jadi cerita indah panjang hidup mati walaupun aku tinggal diri kau simpan hati hadir jadi cerita indah lama hidup mati walaupun aku tinggal diri kau simpan hati tujuh samudera ku arung sama diri'"
      ]
     },
     "execution_count": 16,
     "metadata": {},
     "output_type": "execute_result"
    }
   ],
   "source": [
    "df['lyrics'][8937]"
   ]
  },
  {
   "cell_type": "code",
   "execution_count": 17,
   "metadata": {
    "id": "87P3cZj0z9Yq"
   },
   "outputs": [],
   "source": [
    "from sklearn.metrics.pairwise import cosine_similarity\n",
    "from sklearn.feature_extraction.text import TfidfVectorizer\n",
    "\n",
    "# Inisialisasi dan transformasikan teks menjadi matriks TF-IDF\n",
    "vectorizer = TfidfVectorizer()\n",
    "tfidf_matrix = vectorizer.fit_transform(df['lyrics'])\n",
    "\n",
    "#menghitung nilai cosine similarity\n",
    "similarity = cosine_similarity(tfidf_matrix)\n"
   ]
  },
  {
   "cell_type": "code",
   "execution_count": 18,
   "metadata": {},
   "outputs": [
    {
     "name": "stdout",
     "output_type": "stream",
     "text": [
      "  (0, 9568)\t0.1678112354618293\n",
      "  (0, 8405)\t0.11774747740339256\n",
      "  (0, 15618)\t0.14905124798254987\n",
      "  (0, 19883)\t0.12466009370186175\n",
      "  (0, 13130)\t0.12085831701295147\n",
      "  (0, 487)\t0.11049221304185224\n",
      "  (0, 16225)\t0.09329332320138194\n",
      "  (0, 18798)\t0.18057846095334024\n",
      "  (0, 9202)\t0.09689332807453953\n",
      "  (0, 20358)\t0.2413736008009407\n",
      "  (0, 20157)\t0.15391429986812302\n",
      "  (0, 2978)\t0.15481456186824305\n",
      "  (0, 7355)\t0.13114042750101806\n",
      "  (0, 18211)\t0.10086141747639062\n",
      "  (0, 11203)\t0.15390523473119655\n",
      "  (0, 7216)\t0.13656965767727178\n",
      "  (0, 11327)\t0.20994940286665678\n",
      "  (0, 8316)\t0.2813262296643413\n",
      "  (0, 17245)\t0.19472233342509715\n",
      "  (0, 3220)\t0.12005555638553532\n",
      "  (0, 18481)\t0.23361330889892237\n",
      "  (0, 3544)\t0.18591528277028682\n",
      "  (0, 16373)\t0.14676314805780494\n",
      "  (0, 4086)\t0.1107731765281148\n",
      "  (0, 21211)\t0.2565009336178581\n",
      "  :\t:\n",
      "  (8943, 14151)\t0.1594796657989419\n",
      "  (8943, 695)\t0.14001281099600876\n",
      "  (8943, 21461)\t0.11496287920644267\n",
      "  (8943, 1950)\t0.10699752154441858\n",
      "  (8943, 11736)\t0.4004907409333018\n",
      "  (8943, 13238)\t0.10366533099476306\n",
      "  (8943, 7913)\t0.10043468510616162\n",
      "  (8943, 20820)\t0.12677254924295295\n",
      "  (8943, 5564)\t0.15042809378391736\n",
      "  (8943, 13203)\t0.07752748380317202\n",
      "  (8943, 15836)\t0.10730569444001978\n",
      "  (8943, 12934)\t0.09242573702889323\n",
      "  (8943, 15633)\t0.13491522999168998\n",
      "  (8943, 10354)\t0.08337416501386871\n",
      "  (8943, 5310)\t0.12981764898737122\n",
      "  (8943, 21131)\t0.05310840972055811\n",
      "  (8943, 1336)\t0.08969426484992399\n",
      "  (8943, 13747)\t0.11110492905340438\n",
      "  (8943, 1588)\t0.06317108286735458\n",
      "  (8943, 20142)\t0.42356060351239616\n",
      "  (8943, 15393)\t0.054968858930324285\n",
      "  (8943, 17446)\t0.07805646323027883\n",
      "  (8943, 9708)\t0.0863489292738046\n",
      "  (8943, 6445)\t0.08175868952702048\n",
      "  (8943, 17245)\t0.0469761300714521\n"
     ]
    }
   ],
   "source": [
    "print(tfidf_matrix)"
   ]
  },
  {
   "cell_type": "code",
   "execution_count": 19,
   "metadata": {
    "colab": {
     "base_uri": "https://localhost:8080/"
    },
    "id": "B1kvfV09SkdW",
    "outputId": "406c78de-754a-4a6a-89da-17e246b9fccb"
   },
   "outputs": [
    {
     "data": {
      "text/plain": [
       "array([1.        , 0.071069  , 0.01973517, ..., 0.10807478, 0.12824648,\n",
       "       0.0091473 ])"
      ]
     },
     "execution_count": 19,
     "metadata": {},
     "output_type": "execute_result"
    }
   ],
   "source": [
    "similarity[0]"
   ]
  },
  {
   "cell_type": "code",
   "execution_count": 25,
   "metadata": {},
   "outputs": [
    {
     "name": "stdout",
     "output_type": "stream",
     "text": [
      "          0         1         2         3         4         5         6     \\\n",
      "0     1.000000  0.071069  0.019735  0.032045  0.068495  0.055600  0.074840   \n",
      "1     0.071069  1.000000  0.009725  0.019534  0.168311  0.020097  0.126360   \n",
      "2     0.019735  0.009725  1.000000  0.002051  0.010038  0.006547  0.008197   \n",
      "3     0.032045  0.019534  0.002051  1.000000  0.022344  0.021149  0.019814   \n",
      "4     0.068495  0.168311  0.010038  0.022344  1.000000  0.014692  0.076303   \n",
      "...        ...       ...       ...       ...       ...       ...       ...   \n",
      "8939  0.014339  0.050625  0.013733  0.003320  0.026932  0.002651  0.032524   \n",
      "8940  0.026380  0.029478  0.004755  0.024752  0.024082  0.013191  0.016577   \n",
      "8941  0.108075  0.161591  0.018171  0.118388  0.135421  0.030784  0.094716   \n",
      "8942  0.128246  0.209395  0.008025  0.010668  0.144641  0.014477  0.156108   \n",
      "8943  0.009147  0.000000  0.000000  0.002945  0.032989  0.003200  0.000000   \n",
      "\n",
      "          7         8         9     ...      8934      8935      8936  \\\n",
      "0     0.049823  0.063626  0.056748  ...  0.033909  0.027037  0.043005   \n",
      "1     0.058672  0.049429  0.057303  ...  0.011733  0.027575  0.067964   \n",
      "2     0.002624  0.015400  0.016859  ...  0.010283  0.021496  0.005499   \n",
      "3     0.002912  0.017869  0.009237  ...  0.007130  0.006074  0.014822   \n",
      "4     0.018584  0.002033  0.063063  ...  0.040700  0.017605  0.056547   \n",
      "...        ...       ...       ...  ...       ...       ...       ...   \n",
      "8939  0.051537  0.013770  0.024518  ...  0.037713  0.066212  0.023544   \n",
      "8940  0.024850  0.008783  0.020936  ...  0.038170  0.017688  0.039442   \n",
      "8941  0.043703  0.069242  0.059951  ...  0.023733  0.024205  0.055499   \n",
      "8942  0.054151  0.029780  0.069036  ...  0.013284  0.043202  0.091857   \n",
      "8943  0.000000  0.000000  0.000000  ...  0.000000  0.000000  0.047983   \n",
      "\n",
      "          8937      8938      8939      8940      8941      8942      8943  \n",
      "0     0.058785  0.052066  0.014339  0.026380  0.108075  0.128246  0.009147  \n",
      "1     0.142068  0.016437  0.050625  0.029478  0.161591  0.209395  0.000000  \n",
      "2     0.004819  0.002995  0.013733  0.004755  0.018171  0.008025  0.000000  \n",
      "3     0.012811  0.008482  0.003320  0.024752  0.118388  0.010668  0.002945  \n",
      "4     0.128536  0.034250  0.026932  0.024082  0.135421  0.144641  0.032989  \n",
      "...        ...       ...       ...       ...       ...       ...       ...  \n",
      "8939  0.049128  0.008625  1.000000  0.012521  0.038015  0.049523  0.000000  \n",
      "8940  0.038105  0.021503  0.012521  1.000000  0.027867  0.028072  0.012132  \n",
      "8941  0.176853  0.027159  0.038015  0.027867  1.000000  0.187184  0.003795  \n",
      "8942  0.286200  0.039875  0.049523  0.028072  0.187184  1.000000  0.078119  \n",
      "8943  0.015182  0.028863  0.000000  0.012132  0.003795  0.078119  1.000000  \n",
      "\n",
      "[8944 rows x 8944 columns]\n"
     ]
    }
   ],
   "source": [
    "similarity_df=pd.DataFrame(similarity)\n",
    "print(similarity_df)"
   ]
  },
  {
   "cell_type": "code",
   "execution_count": 21,
   "metadata": {
    "colab": {
     "base_uri": "https://localhost:8080/",
     "height": 206
    },
    "id": "Da1XlFVjS2qQ",
    "outputId": "ba36b6c2-d0fb-49e2-b1b0-b94e9f80d9f8"
   },
   "outputs": [
    {
     "data": {
      "text/html": [
       "<div>\n",
       "<style scoped>\n",
       "    .dataframe tbody tr th:only-of-type {\n",
       "        vertical-align: middle;\n",
       "    }\n",
       "\n",
       "    .dataframe tbody tr th {\n",
       "        vertical-align: top;\n",
       "    }\n",
       "\n",
       "    .dataframe thead th {\n",
       "        text-align: right;\n",
       "    }\n",
       "</style>\n",
       "<table border=\"1\" class=\"dataframe\">\n",
       "  <thead>\n",
       "    <tr style=\"text-align: right;\">\n",
       "      <th></th>\n",
       "      <th>title</th>\n",
       "      <th>artist</th>\n",
       "      <th>lyrics</th>\n",
       "      <th>track_id</th>\n",
       "    </tr>\n",
       "  </thead>\n",
       "  <tbody>\n",
       "    <tr>\n",
       "      <th>0</th>\n",
       "      <td>A N G</td>\n",
       "      <td>Naff</td>\n",
       "      <td>naff ang seluruh hati tlah datang hati pilih s...</td>\n",
       "      <td>7GUIH3PAQ12qAIBl9jGBGn</td>\n",
       "    </tr>\n",
       "    <tr>\n",
       "      <th>1</th>\n",
       "      <td>A Ya Ya</td>\n",
       "      <td>AB Three</td>\n",
       "      <td>ku tak kau kata cinta ku tak kau lena ku tak s...</td>\n",
       "      <td>1gt1KOgV8kj7qZNwHNHXEX</td>\n",
       "    </tr>\n",
       "    <tr>\n",
       "      <th>2</th>\n",
       "      <td>A Ye O (Tamasya)</td>\n",
       "      <td>Soul ID</td>\n",
       "      <td>lalalalaa heeeey lalalalaa heeeey hari aku ren...</td>\n",
       "      <td>6yJn2M5LSJ2EieEyW8sTZm</td>\n",
       "    </tr>\n",
       "    <tr>\n",
       "      <th>3</th>\n",
       "      <td>A-A-A-A-A</td>\n",
       "      <td>Naff</td>\n",
       "      <td>kamu datang tepat bebas jiwa jerat mantanmanta...</td>\n",
       "      <td>0zJIPpVcHKWqmf2FaKXbQQ</td>\n",
       "    </tr>\n",
       "    <tr>\n",
       "      <th>4</th>\n",
       "      <td>A...A...A...</td>\n",
       "      <td>Rif</td>\n",
       "      <td>kau tak tahu jadi kunci jauh hati tak tahu car...</td>\n",
       "      <td>1hS3RXEQbXtWgYpot2Ay07</td>\n",
       "    </tr>\n",
       "  </tbody>\n",
       "</table>\n",
       "</div>"
      ],
      "text/plain": [
       "              title    artist  \\\n",
       "0             A N G      Naff   \n",
       "1           A Ya Ya  AB Three   \n",
       "2  A Ye O (Tamasya)   Soul ID   \n",
       "3         A-A-A-A-A      Naff   \n",
       "4      A...A...A...       Rif   \n",
       "\n",
       "                                              lyrics                track_id  \n",
       "0  naff ang seluruh hati tlah datang hati pilih s...  7GUIH3PAQ12qAIBl9jGBGn  \n",
       "1  ku tak kau kata cinta ku tak kau lena ku tak s...  1gt1KOgV8kj7qZNwHNHXEX  \n",
       "2  lalalalaa heeeey lalalalaa heeeey hari aku ren...  6yJn2M5LSJ2EieEyW8sTZm  \n",
       "3  kamu datang tepat bebas jiwa jerat mantanmanta...  0zJIPpVcHKWqmf2FaKXbQQ  \n",
       "4  kau tak tahu jadi kunci jauh hati tak tahu car...  1hS3RXEQbXtWgYpot2Ay07  "
      ]
     },
     "execution_count": 21,
     "metadata": {},
     "output_type": "execute_result"
    }
   ],
   "source": [
    "df[df['title']=='7 Samudera'].index[0]\n",
    "df.head(5)"
   ]
  },
  {
   "cell_type": "code",
   "execution_count": 22,
   "metadata": {
    "id": "6jYpdjAUTaJI"
   },
   "outputs": [],
   "source": [
    "#membuat fungsi rekomendasi berdasarkan kemiripan lirik lagu yang dihitung menggunakan cosine smiliarity\n",
    "def recommendation(song_title, num_recommendations=10):\n",
    "    try:\n",
    "        # Mendapatkan indeks lagu berdasarkan judul\n",
    "        idx = df[df['title'] == song_title].index[0]\n",
    "    except IndexError:\n",
    "        return \"Song title not found in the dataset.\"\n",
    "\n",
    "    # Menghitung jarak (kemiripan) dan mengurutkannya\n",
    "    distances = sorted(list(enumerate(similarity[idx])), reverse=True, key=lambda x: x[1])\n",
    "\n",
    "    # Mendapatkan daftar rekomendasi lagu beserta nilai similarity\n",
    "    recommended_songs = []\n",
    "    for i in distances[1:num_recommendations+1]:  # Dimulai dari 1 untuk menghindari lagu itu sendiri\n",
    "        recommended_songs.append((df.iloc[i[0]].title, i[1]))\n",
    "\n",
    "    return recommended_songs"
   ]
  },
  {
   "cell_type": "code",
   "execution_count": 23,
   "metadata": {
    "colab": {
     "base_uri": "https://localhost:8080/"
    },
    "id": "W-iwWGm-TllW",
    "outputId": "a6d38eab-73b6-4b3c-a211-2e1e78c1dbd8"
   },
   "outputs": [
    {
     "name": "stdout",
     "output_type": "stream",
     "text": [
      "Lagu yang direkomendasikan:\n",
      "Aku Pasti Memilih: 0.5072010743034989\n",
      "Saat Harus Memilih: 0.4203513409750722\n",
      "Aku Suka Temanmu: 0.41107211275376815\n",
      "Pilihan Hidupku: 0.40913652663539424\n",
      "Maaf Aku Mencintaimu: 0.3977305437218898\n",
      "Demi Hati: 0.3926405810522194\n",
      "Ku Tak Mendua: 0.38711171114776216\n",
      "Mengerti Perasaanku: 0.38678620721811635\n",
      "Kau Yang Memilih Aku: 0.3840189796369996\n",
      "Kamu Sok Tahu: 0.38320514561529934\n"
     ]
    }
   ],
   "source": [
    "# Contoh penggunaan fungsi\n",
    "recommended_songs = recommendation(\"1 Atau 2\", num_recommendations=10)\n",
    "print(\"Lagu yang direkomendasikan:\")\n",
    "for song, score in recommended_songs:\n",
    "    print(f\"{song}: {score}\")"
   ]
  },
  {
   "cell_type": "code",
   "execution_count": 24,
   "metadata": {
    "id": "Bplg9q0iXWcN"
   },
   "outputs": [],
   "source": [
    "#mengubah objek Python menjadi format yang dapat disimpan dan dibaca\n",
    "import pickle\n",
    "pickle.dump(similarity,open('similarity.pkl','wb'))\n",
    "pickle.dump(df,open('df.pkl','wb'))"
   ]
  },
  {
   "cell_type": "code",
   "execution_count": null,
   "metadata": {},
   "outputs": [],
   "source": []
  }
 ],
 "metadata": {
  "colab": {
   "provenance": []
  },
  "kernelspec": {
   "display_name": "Python 3 (ipykernel)",
   "language": "python",
   "name": "python3"
  },
  "language_info": {
   "codemirror_mode": {
    "name": "ipython",
    "version": 3
   },
   "file_extension": ".py",
   "mimetype": "text/x-python",
   "name": "python",
   "nbconvert_exporter": "python",
   "pygments_lexer": "ipython3",
   "version": "3.11.5"
  }
 },
 "nbformat": 4,
 "nbformat_minor": 4
}
