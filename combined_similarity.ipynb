{
 "cells": [
  {
   "cell_type": "code",
   "execution_count": 1,
   "id": "11e7a7a9",
   "metadata": {},
   "outputs": [
    {
     "name": "stderr",
     "output_type": "stream",
     "text": [
      "C:\\Users\\Lenovo\\anaconda3\\Lib\\site-packages\\transformers\\utils\\generic.py:260: UserWarning: torch.utils._pytree._register_pytree_node is deprecated. Please use torch.utils._pytree.register_pytree_node instead.\n",
      "  torch.utils._pytree._register_pytree_node(\n"
     ]
    }
   ],
   "source": [
    "import pandas as pd\n",
    "import re\n",
    "import pandas as pd\n",
    "import numpy as np\n",
    "from sklearn.metrics.pairwise import cosine_similarity\n",
    "import warnings\n",
    "warnings.filterwarnings('ignore', category=UserWarning, module='torch.utils._pytree')\n",
    "from transformers import BertModel, BertTokenizer\n",
    "import torch\n",
    "import pickle\n",
    "df = pd.read_csv('data_fix.csv')"
   ]
  },
  {
   "cell_type": "code",
   "execution_count": 2,
   "id": "827dd378",
   "metadata": {},
   "outputs": [
    {
     "data": {
      "text/html": [
       "<div>\n",
       "<style scoped>\n",
       "    .dataframe tbody tr th:only-of-type {\n",
       "        vertical-align: middle;\n",
       "    }\n",
       "\n",
       "    .dataframe tbody tr th {\n",
       "        vertical-align: top;\n",
       "    }\n",
       "\n",
       "    .dataframe thead th {\n",
       "        text-align: right;\n",
       "    }\n",
       "</style>\n",
       "<table border=\"1\" class=\"dataframe\">\n",
       "  <thead>\n",
       "    <tr style=\"text-align: right;\">\n",
       "      <th></th>\n",
       "      <th>title</th>\n",
       "      <th>artist</th>\n",
       "      <th>lyrics</th>\n",
       "      <th>track_id</th>\n",
       "    </tr>\n",
       "  </thead>\n",
       "  <tbody>\n",
       "    <tr>\n",
       "      <th>0</th>\n",
       "      <td>A N G</td>\n",
       "      <td>Naff</td>\n",
       "      <td>NAFF - A.N.G\\nSeluruh hati tlah kudatangi\\nHan...</td>\n",
       "      <td>7GUIH3PAQ12qAIBl9jGBGn</td>\n",
       "    </tr>\n",
       "    <tr>\n",
       "      <th>1</th>\n",
       "      <td>A Ya Ya</td>\n",
       "      <td>AB Three</td>\n",
       "      <td>Ku tak ingin kau katakan cinta\\nKu tak ingin k...</td>\n",
       "      <td>1gt1KOgV8kj7qZNwHNHXEX</td>\n",
       "    </tr>\n",
       "    <tr>\n",
       "      <th>2</th>\n",
       "      <td>A Ye O (Tamasya)</td>\n",
       "      <td>Soul ID</td>\n",
       "      <td>Lalalalaa heeeey… Lalalalaa heeeey\\nHari ini a...</td>\n",
       "      <td>6yJn2M5LSJ2EieEyW8sTZm</td>\n",
       "    </tr>\n",
       "    <tr>\n",
       "      <th>3</th>\n",
       "      <td>A-A-A-A-A</td>\n",
       "      <td>Naff</td>\n",
       "      <td>kamu datang di saat tepat\\nbebaskan jiwa yang ...</td>\n",
       "      <td>0zJIPpVcHKWqmf2FaKXbQQ</td>\n",
       "    </tr>\n",
       "    <tr>\n",
       "      <th>4</th>\n",
       "      <td>A...A...A...</td>\n",
       "      <td>Rif</td>\n",
       "      <td>Kau... tak tahu, yang terjadi,\\nterkunci, jauh...</td>\n",
       "      <td>1hS3RXEQbXtWgYpot2Ay07</td>\n",
       "    </tr>\n",
       "  </tbody>\n",
       "</table>\n",
       "</div>"
      ],
      "text/plain": [
       "              title    artist  \\\n",
       "0             A N G      Naff   \n",
       "1           A Ya Ya  AB Three   \n",
       "2  A Ye O (Tamasya)   Soul ID   \n",
       "3         A-A-A-A-A      Naff   \n",
       "4      A...A...A...       Rif   \n",
       "\n",
       "                                              lyrics                track_id  \n",
       "0  NAFF - A.N.G\\nSeluruh hati tlah kudatangi\\nHan...  7GUIH3PAQ12qAIBl9jGBGn  \n",
       "1  Ku tak ingin kau katakan cinta\\nKu tak ingin k...  1gt1KOgV8kj7qZNwHNHXEX  \n",
       "2  Lalalalaa heeeey… Lalalalaa heeeey\\nHari ini a...  6yJn2M5LSJ2EieEyW8sTZm  \n",
       "3  kamu datang di saat tepat\\nbebaskan jiwa yang ...  0zJIPpVcHKWqmf2FaKXbQQ  \n",
       "4  Kau... tak tahu, yang terjadi,\\nterkunci, jauh...  1hS3RXEQbXtWgYpot2Ay07  "
      ]
     },
     "execution_count": 2,
     "metadata": {},
     "output_type": "execute_result"
    }
   ],
   "source": [
    "df.head(5)"
   ]
  },
  {
   "cell_type": "code",
   "execution_count": 3,
   "id": "9063cbff",
   "metadata": {},
   "outputs": [],
   "source": [
    "# Load precomputed TF-IDF similarity scores\n",
    "with open('similarity.pkl', 'rb') as file:\n",
    "    similarity = pickle.load(file)"
   ]
  },
  {
   "cell_type": "code",
   "execution_count": 4,
   "id": "148d4b33",
   "metadata": {},
   "outputs": [],
   "source": [
    "# Basic preprocessing function for BERT\n",
    "def preprocess_text(text):\n",
    "    # Lowercasing (if using an uncased model)\n",
    "    text = text.lower()\n",
    "    # Removing unnecessary whitespace\n",
    "    text = ' '.join(text.split())\n",
    "    return text"
   ]
  },
  {
   "cell_type": "code",
   "execution_count": 5,
   "id": "6106ac99",
   "metadata": {},
   "outputs": [],
   "source": [
    "# Preprocess the lyrics\n",
    "df['lyrics'] = df['lyrics'].apply(preprocess_text)"
   ]
  },
  {
   "cell_type": "code",
   "execution_count": 6,
   "id": "9dc94969-39d0-47a6-9e0c-67910f9afc99",
   "metadata": {},
   "outputs": [
    {
     "data": {
      "text/plain": [
       "'lestari alamku lestari desaku dimana tuhanku menitipkan aku nyanyi bocah-bocah di kala purnama nyanyikan pujaan untuk nusa damai saudaraku suburlah bumiku kuingat ibuku dongengkan cerita kisah tentang jaya nusantara lama tentram kerta raharja di sana mengapa tanahku rawan kini bukit-bukitpun telanjang berdiri pohon dan rumput-rumput enggan bersemi kembali dan burung-burungpun malu bernyanyi kuingin bukitku hijau kembali semak rumputpun tak sabar menanti doa kan kuucapkan hari demi hari sampai kapankah hati lapang diri kami kan bernyanyi hibur lara hati nyanyikan bait padamu negeri tentang kerta raharja di sana'"
      ]
     },
     "execution_count": 6,
     "metadata": {},
     "output_type": "execute_result"
    }
   ],
   "source": [
    "df['lyrics'][980]"
   ]
  },
  {
   "cell_type": "code",
   "execution_count": 7,
   "id": "fd3202e0-7053-4564-b7e1-1cb6cb1be6ff",
   "metadata": {},
   "outputs": [],
   "source": [
    "# Load pre-trained BERT model and tokenizer for Indonesian\n",
    "model_name = 'indobenchmark/indobert-base-p2'\n",
    "tokenizer = BertTokenizer.from_pretrained(model_name)\n",
    "model = BertModel.from_pretrained(model_name)"
   ]
  },
  {
   "cell_type": "code",
   "execution_count": 8,
   "id": "31e9a668-8559-444a-9640-15a527991767",
   "metadata": {},
   "outputs": [],
   "source": [
    "# Function to generate BERT embeddings for a given text\n",
    "def get_bert_embedding(text):\n",
    "    inputs = tokenizer(text, return_tensors='pt', truncation=True, padding=True, max_length=512)\n",
    "    with torch.no_grad():\n",
    "        outputs = model(**inputs)\n",
    "    # Take the mean of the token embeddings for simplicity\n",
    "    embeddings = outputs.last_hidden_state.mean(dim=1).squeeze()\n",
    "    return embeddings.numpy()"
   ]
  },
  {
   "cell_type": "code",
   "execution_count": 9,
   "id": "75a5aadc-9bd1-48c4-893d-843322dfac01",
   "metadata": {},
   "outputs": [],
   "source": [
    "# Generate embeddings for all lyrics\n",
    "embeddings = np.array([get_bert_embedding(lyric) for lyric in df['lyrics']])"
   ]
  },
  {
   "cell_type": "code",
   "execution_count": 11,
   "id": "223ccf94-9946-4bef-bc7d-652ee300d871",
   "metadata": {},
   "outputs": [
    {
     "name": "stdout",
     "output_type": "stream",
     "text": [
      "           0         1         2         3         4         5         6    \\\n",
      "0    -0.568146  0.198283 -0.458177  0.370740  0.764701  0.607661 -1.299822   \n",
      "1    -0.231666  0.596280 -0.150145  0.633775 -0.063158  0.856758 -1.045218   \n",
      "2    -1.248662  0.861700  0.146187  0.628623 -0.164685 -0.859299 -0.461809   \n",
      "3    -0.155257  0.126033 -0.198150 -0.026840 -0.343433 -0.881186 -0.715470   \n",
      "4     0.248931  1.204140 -0.330226  0.060913  0.268736 -0.013973 -1.308695   \n",
      "...        ...       ...       ...       ...       ...       ...       ...   \n",
      "8939  0.095740  0.428503 -0.361326  0.508509  0.509621  0.065475 -0.716207   \n",
      "8940  0.289517  1.430664 -0.360798  0.383232  0.261394  0.367782 -0.648694   \n",
      "8941 -0.217209  0.528622 -0.275640  0.310023  0.549417  0.691048 -1.500849   \n",
      "8942 -0.237535  0.605755  0.209334  0.358475  0.667113  0.639506 -1.278001   \n",
      "8943 -0.144212  0.787844  0.188369 -0.317600 -0.093743  0.107470 -1.326999   \n",
      "\n",
      "           7         8         9    ...       758       759       760  \\\n",
      "0     0.792907  0.739644  0.238872  ...  0.146321  0.646020  0.156766   \n",
      "1     0.124024  1.139367  0.069700  ...  0.342651  0.480419 -0.085014   \n",
      "2     1.141886  1.105257  0.457987  ...  0.222946  0.768213 -0.063054   \n",
      "3     0.784979  0.449827  1.087978  ...  0.052313  0.488016 -0.681793   \n",
      "4     0.113229  1.260914  0.195707  ...  0.857606  0.052572  0.248156   \n",
      "...        ...       ...       ...  ...       ...       ...       ...   \n",
      "8939  0.563871  0.877055  0.032589  ...  0.522250 -0.159493 -0.454346   \n",
      "8940  0.643745  1.019746  0.038765  ...  0.144458 -0.138287 -0.634530   \n",
      "8941  0.183039  1.142894 -0.340137  ...  0.368187  0.260967 -0.281556   \n",
      "8942  0.236744  1.253844 -0.021289  ...  0.743850  0.342981  0.010395   \n",
      "8943  0.515382  0.731121  0.336785  ...  0.251785 -0.693324 -0.284652   \n",
      "\n",
      "           761       762       763       764       765       766       767  \n",
      "0     0.706120 -0.079729 -0.336608  0.783028  0.940714  0.221105 -1.140492  \n",
      "1     0.788924 -0.622361  0.036640  0.995531  1.017658 -0.010021 -0.841445  \n",
      "2     0.306356 -1.552147  0.402840  1.035168  0.059233  0.464356 -0.545843  \n",
      "3     0.369502 -0.916119 -0.006176  0.053496  0.153155  1.126946 -0.380914  \n",
      "4     0.507170 -0.916642 -0.459829  0.760088  0.752367  0.435313 -0.200756  \n",
      "...        ...       ...       ...       ...       ...       ...       ...  \n",
      "8939  1.081769 -0.637888 -0.039156  0.798910  1.045365  0.066497 -0.626556  \n",
      "8940 -0.275760 -0.552631  0.412698  0.440828  0.662075  0.246289 -0.706869  \n",
      "8941  0.704097 -0.057464 -0.348905  0.933437  0.674631  0.449335 -0.809922  \n",
      "8942  0.667578  0.054645 -0.188791  1.184290  1.064951  0.463239 -0.864077  \n",
      "8943  0.044134  0.205648  0.327229  1.005117  0.964230 -0.055174 -0.150879  \n",
      "\n",
      "[8944 rows x 768 columns]\n"
     ]
    }
   ],
   "source": [
    "embeddings_df=pd.DataFrame(embeddings)\n",
    "print(embeddings_df)"
   ]
  },
  {
   "cell_type": "code",
   "execution_count": 12,
   "id": "63680530-7904-4797-a2bd-887e348e07b2",
   "metadata": {},
   "outputs": [],
   "source": [
    "# Compute cosine similarity for BERT embeddings\n",
    "bert_similarity = cosine_similarity(embeddings)"
   ]
  },
  {
   "cell_type": "code",
   "execution_count": 13,
   "id": "08882201-bfe3-440e-904e-3d9449ed0c4b",
   "metadata": {},
   "outputs": [
    {
     "name": "stdout",
     "output_type": "stream",
     "text": [
      "          0         1         2         3         4         5         6     \\\n",
      "0     1.000000  0.788669  0.397993  0.441267  0.606302  0.467472  0.744099   \n",
      "1     0.788669  1.000000  0.518595  0.498672  0.669996  0.528917  0.675200   \n",
      "2     0.397993  0.518595  1.000000  0.553414  0.454367  0.504266  0.485146   \n",
      "3     0.441267  0.498672  0.553414  1.000000  0.477056  0.522488  0.493330   \n",
      "4     0.606302  0.669996  0.454367  0.477056  1.000000  0.572938  0.613938   \n",
      "...        ...       ...       ...       ...       ...       ...       ...   \n",
      "8939  0.670784  0.739236  0.568728  0.455846  0.638286  0.569949  0.696148   \n",
      "8940  0.501235  0.549098  0.472791  0.423358  0.578239  0.604867  0.636570   \n",
      "8941  0.869581  0.828091  0.380823  0.413136  0.642295  0.508480  0.744013   \n",
      "8942  0.860340  0.814156  0.359196  0.396821  0.647247  0.500211  0.734889   \n",
      "8943  0.425765  0.457559  0.356715  0.316411  0.462433  0.527278  0.490570   \n",
      "\n",
      "          7         8         9     ...      8934      8935      8936  \\\n",
      "0     0.668819  0.678672  0.866912  ...  0.534078  0.555183  0.792595   \n",
      "1     0.611521  0.654864  0.723041  ...  0.483680  0.638125  0.676793   \n",
      "2     0.361343  0.433595  0.377205  ...  0.313500  0.577776  0.390295   \n",
      "3     0.354615  0.408113  0.391106  ...  0.324971  0.474108  0.414155   \n",
      "4     0.571500  0.461581  0.606265  ...  0.426326  0.673868  0.517369   \n",
      "...        ...       ...       ...  ...       ...       ...       ...   \n",
      "8939  0.654085  0.643276  0.631315  ...  0.580371  0.632327  0.654717   \n",
      "8940  0.619738  0.524681  0.558355  ...  0.573172  0.618235  0.647554   \n",
      "8941  0.710884  0.724879  0.842955  ...  0.563442  0.636338  0.760769   \n",
      "8942  0.687667  0.660210  0.819131  ...  0.517154  0.593748  0.730031   \n",
      "8943  0.548797  0.500153  0.433105  ...  0.605156  0.525184  0.535899   \n",
      "\n",
      "          8937      8938      8939      8940      8941      8942      8943  \n",
      "0     0.796913  0.543997  0.670784  0.501235  0.869581  0.860340  0.425765  \n",
      "1     0.845658  0.555930  0.739236  0.549098  0.828091  0.814156  0.457559  \n",
      "2     0.495800  0.486569  0.568728  0.472791  0.380823  0.359196  0.356715  \n",
      "3     0.492649  0.456088  0.455846  0.423358  0.413136  0.396821  0.316411  \n",
      "4     0.644567  0.532217  0.638286  0.578239  0.642295  0.647247  0.462433  \n",
      "...        ...       ...       ...       ...       ...       ...       ...  \n",
      "8939  0.734661  0.584918  1.000001  0.590286  0.711373  0.682772  0.492280  \n",
      "8940  0.525474  0.630701  0.590286  1.000000  0.538304  0.515035  0.703512  \n",
      "8941  0.838576  0.615526  0.711373  0.538304  1.000000  0.888807  0.487585  \n",
      "8942  0.824140  0.533214  0.682772  0.515035  0.888807  1.000000  0.422909  \n",
      "8943  0.409400  0.631100  0.492280  0.703512  0.487585  0.422909  1.000000  \n",
      "\n",
      "[8944 rows x 8944 columns]\n"
     ]
    }
   ],
   "source": [
    "bert_similarity_df=pd.DataFrame(bert_similarity)\n",
    "print(bert_similarity_df)"
   ]
  },
  {
   "cell_type": "code",
   "execution_count": 14,
   "id": "197f29d4-0233-42c8-a465-a2c2a9396c98",
   "metadata": {},
   "outputs": [],
   "source": [
    "# Combine TF-IDF and BERT similarities\n",
    "combined_similarity = (similarity + bert_similarity) / 2"
   ]
  },
  {
   "cell_type": "code",
   "execution_count": 15,
   "id": "d67aafba-7220-47a3-989f-e63ff8987d3e",
   "metadata": {},
   "outputs": [
    {
     "name": "stdout",
     "output_type": "stream",
     "text": [
      "          0         1         2         3         4         5         6     \\\n",
      "0     1.000000  0.429869  0.208864  0.236656  0.337399  0.261536  0.409469   \n",
      "1     0.429869  1.000000  0.264160  0.259103  0.419153  0.274507  0.400780   \n",
      "2     0.208864  0.264160  1.000000  0.277733  0.232203  0.255406  0.246671   \n",
      "3     0.236656  0.259103  0.277733  1.000000  0.249700  0.271818  0.256572   \n",
      "4     0.337399  0.419153  0.232203  0.249700  1.000000  0.293815  0.345120   \n",
      "...        ...       ...       ...       ...       ...       ...       ...   \n",
      "8939  0.342562  0.394931  0.291231  0.229583  0.332609  0.286300  0.364336   \n",
      "8940  0.263807  0.289288  0.238773  0.224055  0.301160  0.309029  0.326573   \n",
      "8941  0.488828  0.494841  0.199497  0.265762  0.388858  0.269632  0.419365   \n",
      "8942  0.494293  0.511775  0.183610  0.203745  0.395944  0.257344  0.445498   \n",
      "8943  0.217456  0.228779  0.178358  0.159678  0.247711  0.265239  0.245285   \n",
      "\n",
      "          7         8         9     ...      8934      8935      8936  \\\n",
      "0     0.359321  0.371149  0.461830  ...  0.283993  0.291110  0.417800   \n",
      "1     0.335097  0.352147  0.390172  ...  0.247706  0.332850  0.372378   \n",
      "2     0.181984  0.224498  0.197032  ...  0.161891  0.299636  0.197897   \n",
      "3     0.178763  0.212991  0.200172  ...  0.166051  0.240091  0.214488   \n",
      "4     0.295042  0.231807  0.334664  ...  0.233513  0.345737  0.286958   \n",
      "...        ...       ...       ...  ...       ...       ...       ...   \n",
      "8939  0.352811  0.328523  0.327917  ...  0.309042  0.349269  0.339130   \n",
      "8940  0.322294  0.266732  0.289646  ...  0.305671  0.317961  0.343498   \n",
      "8941  0.377294  0.397061  0.451453  ...  0.293587  0.330271  0.408134   \n",
      "8942  0.370909  0.344995  0.444083  ...  0.265219  0.318475  0.410944   \n",
      "8943  0.274398  0.250077  0.216553  ...  0.302578  0.262592  0.291941   \n",
      "\n",
      "          8937      8938      8939      8940      8941      8942      8943  \n",
      "0     0.427849  0.298032  0.342562  0.263807  0.488828  0.494293  0.217456  \n",
      "1     0.493863  0.286184  0.394931  0.289288  0.494841  0.511775  0.228779  \n",
      "2     0.250309  0.244782  0.291231  0.238773  0.199497  0.183610  0.178358  \n",
      "3     0.252730  0.232285  0.229583  0.224055  0.265762  0.203745  0.159678  \n",
      "4     0.386552  0.283234  0.332609  0.301160  0.388858  0.395944  0.247711  \n",
      "...        ...       ...       ...       ...       ...       ...       ...  \n",
      "8939  0.391895  0.296772  1.000000  0.301403  0.374694  0.366147  0.246140  \n",
      "8940  0.281789  0.326102  0.301403  1.000000  0.283086  0.271553  0.357822  \n",
      "8941  0.507715  0.321342  0.374694  0.283086  1.000000  0.537996  0.245690  \n",
      "8942  0.555170  0.286544  0.366147  0.271553  0.537996  1.000000  0.250514  \n",
      "8943  0.212291  0.329982  0.246140  0.357822  0.245690  0.250514  1.000000  \n",
      "\n",
      "[8944 rows x 8944 columns]\n"
     ]
    }
   ],
   "source": [
    "combined_similarity_df=pd.DataFrame(combined_similarity)\n",
    "print(combined_similarity_df)"
   ]
  },
  {
   "cell_type": "code",
   "execution_count": null,
   "id": "732db83f-1809-4706-90e0-21cf30ec6083",
   "metadata": {},
   "outputs": [],
   "source": [
    "# Save combined similarity to a .pkl file\n",
    "with open('combined_similarity.pkl', 'wb') as file:\n",
    "    pickle.dump(combined_similarity, file)"
   ]
  },
  {
   "cell_type": "code",
   "execution_count": null,
   "id": "33137be8-04e0-4851-a562-a59fe4b56562",
   "metadata": {},
   "outputs": [],
   "source": [
    "# Save bert similarity to a .pkl file\n",
    "with open('bert_similarity.pkl', 'wb') as file:\n",
    "    pickle.dump(combined_similarity, file)"
   ]
  },
  {
   "cell_type": "code",
   "execution_count": 16,
   "id": "bf5a1300-7398-40cb-b4f3-1a0987ad8d1e",
   "metadata": {},
   "outputs": [],
   "source": [
    "# Function to recommend songs based on combined similarity\n",
    "def recommend_songs(tfidf_sim, bert_sim, song_title, top_k=10):\n",
    "    # Find the index of the song by title\n",
    "    song_index = df.index[df['title'] == song_title].tolist()\n",
    "    if not song_index:\n",
    "        return f\"Song titled '{song_title}' not found in the dataset.\"\n",
    "    song_index = song_index[0]\n",
    "    \n",
    "    # Combine the similarities\n",
    "    combined_sim = (tfidf_sim + bert_sim) / 2\n",
    "    similar_indices = combined_sim[song_index].argsort()[::-1][1:top_k+1]\n",
    "    similarities = combined_sim[song_index][similar_indices]\n",
    "    recommendations = df.iloc[similar_indices]\n",
    "    \n",
    "    return recommendations, similarities"
   ]
  },
  {
   "cell_type": "code",
   "execution_count": 17,
   "id": "ad7ef932-017f-466a-9aa2-63abdaf72586",
   "metadata": {},
   "outputs": [
    {
     "name": "stdout",
     "output_type": "stream",
     "text": [
      "Title: Sampai Mati, Artist: Putih, Similarity: 0.589738098783852\n",
      "Title: M.A.T.S., Artist: Wali, Similarity: 0.5893906843582833\n",
      "Title: Ku Berhenti Mencintaimu, Artist: Jihan Audy, Similarity: 0.5881226065823915\n",
      "Title: Menunggu Berakhir Luka, Artist: NDX A.K.A, Similarity: 0.5872428365153777\n",
      "Title: Harus Meninggalkanmu, Artist: Brand New Storm, Similarity: 0.5864257833740153\n",
      "Title: Sakit-Sakit Hatiku, Artist: Via Vallen, Similarity: 0.5851921995135638\n",
      "Title: Dahsyat, Artist: Melly Goeslaw, Similarity: 0.5834209372199751\n",
      "Title: Memori Haruskah Kusesali, Artist: Nella Kharisma, Similarity: 0.5831601072148092\n",
      "Title: Selamat Tinggal Cinta, Artist: MOVE, Similarity: 0.5824162453388804\n",
      "Title: Pilihan Hidupku, Artist: Bibus, Similarity: 0.5814974463212027\n"
     ]
    }
   ],
   "source": [
    "# Example usage: Recommend songs for a given song title\n",
    "song_title_input = '7 Samudera'  # Replace with the desired song title\n",
    "result = recommend_songs(similarity, bert_similarity, song_title_input)\n",
    "\n",
    "if isinstance(result, str):\n",
    "    print(result)\n",
    "else:\n",
    "    recommended_songs, similarities = result\n",
    "    for song, similarity in zip(recommended_songs.itertuples(index=False), similarities):\n",
    "        print(f\"Title: {song.title}, Artist: {song.artist}, Similarity: {similarity}\")"
   ]
  },
  {
   "cell_type": "code",
   "execution_count": null,
   "id": "034b471f-d4d4-4055-bd71-0fd7a45631e7",
   "metadata": {},
   "outputs": [],
   "source": []
  }
 ],
 "metadata": {
  "kernelspec": {
   "display_name": "Python 3 (ipykernel)",
   "language": "python",
   "name": "python3"
  },
  "language_info": {
   "codemirror_mode": {
    "name": "ipython",
    "version": 3
   },
   "file_extension": ".py",
   "mimetype": "text/x-python",
   "name": "python",
   "nbconvert_exporter": "python",
   "pygments_lexer": "ipython3",
   "version": "3.11.5"
  }
 },
 "nbformat": 4,
 "nbformat_minor": 5
}
